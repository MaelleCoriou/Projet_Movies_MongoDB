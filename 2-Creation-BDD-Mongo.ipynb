{
 "cells": [
  {
   "cell_type": "code",
   "execution_count": 1,
   "metadata": {},
   "outputs": [],
   "source": [
    "# Installer la librairie pymongo binary dans l'environnement virtuel\n",
    "# Paquet Python pour MongoDB\n",
    "import pymongo"
   ]
  },
  {
   "cell_type": "code",
   "execution_count": 2,
   "metadata": {},
   "outputs": [],
   "source": [
    "# Pour la lecture des fichier csv\n",
    "import csv"
   ]
  },
  {
   "cell_type": "code",
   "execution_count": 3,
   "metadata": {},
   "outputs": [],
   "source": [
    "# MongoClient pour connexion à MongoDB\n",
    "from pymongo import MongoClient"
   ]
  },
  {
   "cell_type": "code",
   "execution_count": 4,
   "metadata": {},
   "outputs": [],
   "source": [
    "# Connexion à MongoDB et accès aux abjets de la base de données\n",
    "connexion = pymongo.MongoClient('localhost', 27017)"
   ]
  },
  {
   "cell_type": "code",
   "execution_count": 5,
   "metadata": {},
   "outputs": [],
   "source": [
    "# Création Dbb\n",
    "database = connexion['Floupics_Mongo']"
   ]
  },
  {
   "cell_type": "code",
   "execution_count": 6,
   "metadata": {},
   "outputs": [],
   "source": [
    "# Création document movies\n",
    "collection = database['movies']"
   ]
  },
  {
   "cell_type": "code",
   "execution_count": 7,
   "metadata": {},
   "outputs": [],
   "source": [
    "# Chemin vers fichier csv movies.csv\n",
    "path_movies = 'data/movies.csv'"
   ]
  },
  {
   "cell_type": "markdown",
   "metadata": {},
   "source": [
    "#### CREER UNE BDD MONGOBD A PARTIR D'UN FICHIER CSV\n",
    "Clé_Id ---> UUID générée par MongoBD"
   ]
  },
  {
   "cell_type": "code",
   "execution_count": 8,
   "metadata": {},
   "outputs": [],
   "source": [
    "# Fonction lire fichier csv\n",
    "def lire_csv_dict(path_file) :\n",
    "    \n",
    "    try:\n",
    "        data = []\n",
    "        with open(path_file, encoding='utf-8') as csvfile: \n",
    "            reader = csv.DictReader(csvfile)\n",
    "            for rows in reader:\n",
    "                data.append(rows)\n",
    "        return data\n",
    "\n",
    "    except:\n",
    "        print('une erreur est survenue')"
   ]
  },
  {
   "cell_type": "code",
   "execution_count": 9,
   "metadata": {},
   "outputs": [],
   "source": [
    "# Fonction lire fichier csv fichier movies.csv appelant fonction chemin vers movies\n",
    "movies = lire_csv_dict(path_movies)"
   ]
  },
  {
   "cell_type": "code",
   "execution_count": 10,
   "metadata": {},
   "outputs": [
    {
     "name": "stdout",
     "output_type": "stream",
     "text": [
      "Fichier Importé avec succés !!\n"
     ]
    }
   ],
   "source": [
    "# Insérer les données dans le document movies avec la méthode .insert_many\n",
    "try:\n",
    "    collection.insert_many(movies)\n",
    "    print('Fichier Importé avec succés !!')\n",
    "except:\n",
    "    print('Les données sont déjà insérées')"
   ]
  },
  {
   "cell_type": "code",
   "execution_count": 11,
   "metadata": {},
   "outputs": [
    {
     "data": {
      "text/plain": [
       "['movies']"
      ]
     },
     "execution_count": 11,
     "metadata": {},
     "output_type": "execute_result"
    }
   ],
   "source": [
    "# Afficher liste des documents de la Dbb, ne s'affiche qu'une fois les données importées\n",
    "database.list_collection_names()"
   ]
  },
  {
   "cell_type": "code",
   "execution_count": 12,
   "metadata": {},
   "outputs": [
    {
     "data": {
      "image/png": "[encoded data removed]",
      "text/plain": [
       "<IPython.core.display.Image object>"
      ]
     },
     "execution_count": 12,
     "metadata": {},
     "output_type": "execute_result"
    }
   ],
   "source": [
    "from IPython.display import Image\n",
    "Image(\"Pics/Mongo-movies1.png\")"
   ]
  },
  {
   "cell_type": "markdown",
   "metadata": {},
   "source": [
    "#### CREER UNE BDD MONGOBD A PARTIR D'UN FICHIER JSON\n",
    "Clé_Id ---> UUID générée par MongoBD"
   ]
  },
  {
   "cell_type": "code",
   "execution_count": 13,
   "metadata": {},
   "outputs": [],
   "source": [
    "import json"
   ]
  },
  {
   "cell_type": "code",
   "execution_count": 14,
   "metadata": {},
   "outputs": [],
   "source": [
    "# Chemin et nom du nouveau fichier Json fichier \n",
    "path_json2 = r'data/movies2.json'"
   ]
  },
  {
   "cell_type": "code",
   "execution_count": 15,
   "metadata": {},
   "outputs": [],
   "source": [
    "def creer_json(path_json2):\n",
    "    data = []\n",
    "    with open(path_movies, encoding='utf-8') as csvfile:\n",
    "        reader = csv.DictReader(csvfile)\n",
    "        for rows in reader:\n",
    "            data.append(rows)\n",
    "\n",
    "            # Enregistrer le fichier JSON\n",
    "    with open(path_json2, 'w') as jsonFile:\n",
    "        jsonFile.write(json.dumps(data, indent=4))\n",
    "    print(\"Fichier JSON enregistré!\")"
   ]
  },
  {
   "cell_type": "code",
   "execution_count": 16,
   "metadata": {},
   "outputs": [
    {
     "name": "stdout",
     "output_type": "stream",
     "text": [
      "Fichier JSON enregistré!\n"
     ]
    }
   ],
   "source": [
    "movies_Json2 = creer_json(path_json2)"
   ]
  },
  {
   "cell_type": "code",
   "execution_count": 17,
   "metadata": {},
   "outputs": [],
   "source": [
    "database_Json2 = connexion['Floupics_Mongo_JSON2']"
   ]
  },
  {
   "cell_type": "code",
   "execution_count": 18,
   "metadata": {},
   "outputs": [],
   "source": [
    "collection_Json2 = database_Json2['movies']"
   ]
  },
  {
   "cell_type": "code",
   "execution_count": 19,
   "metadata": {},
   "outputs": [],
   "source": [
    "# Importer les données du fichier Json vers MongoBDD\n",
    "# Ne pas réitérer sinon doublons\n",
    "def inserer_donnees_Json(path_json2):\n",
    "    with open(path_json2) as jsf:\n",
    "        file_data = json.load(jsf)\n",
    "\n",
    "    collection_Json2.insert_many(file_data)\n",
    "    print('Fichier Importé avec succés !!')"
   ]
  },
  {
   "cell_type": "code",
   "execution_count": 20,
   "metadata": {},
   "outputs": [
    {
     "name": "stdout",
     "output_type": "stream",
     "text": [
      "Fichier Importé avec succés !!\n"
     ]
    }
   ],
   "source": [
    "movies_insert_Json2 = inserer_donnees_Json(path_json2)"
   ]
  },
  {
   "cell_type": "markdown",
   "metadata": {},
   "source": [
    "### AFFICHER LES PREMIERS ENREGISTREMENTS DE LA BDD"
   ]
  },
  {
   "cell_type": "code",
   "execution_count": 21,
   "metadata": {},
   "outputs": [
    {
     "name": "stdout",
     "output_type": "stream",
     "text": [
      "{'_id': ObjectId('5fe0553b4a19c7a77280efbe'), 'movieId': '1', 'title': 'Toy Story (1995)', 'genres': 'Adventure|Animation|Children|Comedy|Fantasy'}\n",
      "{'_id': ObjectId('5fe0553b4a19c7a77280efbf'), 'movieId': '2', 'title': 'Jumanji (1995)', 'genres': 'Adventure|Children|Fantasy'}\n",
      "{'_id': ObjectId('5fe0553b4a19c7a77280efc0'), 'movieId': '3', 'title': 'Grumpier Old Men (1995)', 'genres': 'Comedy|Romance'}\n"
     ]
    }
   ],
   "source": [
    "for movie in database.movies.find( {} ).limit(3):\n",
    "    print(movie)"
   ]
  },
  {
   "cell_type": "markdown",
   "metadata": {},
   "source": [
    "### AFFICHER UN ENREGISTREMENT EN PARTICULIER, EXEMPLE FILM ID # 19"
   ]
  },
  {
   "cell_type": "code",
   "execution_count": 22,
   "metadata": {},
   "outputs": [
    {
     "name": "stdout",
     "output_type": "stream",
     "text": [
      "{'_id': ObjectId('5fe0553b4a19c7a77280f073'), 'movieId': '213', 'title': 'Burnt by the Sun (Utomlyonnye solntsem) (1994)', 'genres': 'Drama'}\n"
     ]
    }
   ],
   "source": [
    "movie_search1 = collection.find_one({'movieId' : '213' })\n",
    "print(movie_search1)"
   ]
  },
  {
   "cell_type": "code",
   "execution_count": 23,
   "metadata": {},
   "outputs": [
    {
     "name": "stdout",
     "output_type": "stream",
     "text": [
      "{'_id': ObjectId('5fe0553c4a19c7a772811681'), 'movieId': '213', 'title': 'Burnt by the Sun (Utomlyonnye solntsem) (1994)', 'genres': 'Drama'}\n"
     ]
    }
   ],
   "source": [
    "movie_search2 = collection_Json2.find_one({'movieId' : '213' })\n",
    "print(movie_search2)"
   ]
  },
  {
   "cell_type": "markdown",
   "metadata": {},
   "source": [
    "### AFFICHER LES NOMS DES CHAMPS DU RESULTAT"
   ]
  },
  {
   "cell_type": "code",
   "execution_count": 24,
   "metadata": {},
   "outputs": [
    {
     "name": "stdout",
     "output_type": "stream",
     "text": [
      "_id\n",
      "movieId\n",
      "title\n",
      "genres\n"
     ]
    }
   ],
   "source": [
    "for nom_champs in movie_search1 :\n",
    "    print(nom_champs)"
   ]
  },
  {
   "cell_type": "code",
   "execution_count": 25,
   "metadata": {},
   "outputs": [],
   "source": [
    "connexion.close()"
   ]
  }
 ],
 "metadata": {
  "kernelspec": {
   "display_name": "Python 3",
   "language": "python",
   "name": "python3"
  },
  "language_info": {
   "codemirror_mode": {
    "name": "ipython",
    "version": 3
   },
   "file_extension": ".py",
   "mimetype": "text/x-python",
   "name": "python",
   "nbconvert_exporter": "python",
   "pygments_lexer": "ipython3",
   "version": "3.8.6"
  }
 },
 "nbformat": 4,
 "nbformat_minor": 4
}
